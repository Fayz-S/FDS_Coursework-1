{
 "cells": [
  {
   "cell_type": "code",
   "execution_count": 2,
   "metadata": {},
   "outputs": [
    {
     "name": "stdout",
     "output_type": "stream",
     "text": [
      "All packages imported!\n"
     ]
    }
   ],
   "source": [
    "# Importing Relevant Packages \n",
    "\n",
    "import os\n",
    "import sys\n",
    "import numpy as np\n",
    "import pandas as pd\n",
    "import seaborn as sns\n",
    "import matplotlib.pyplot as plt\n",
    "import datetime\n",
    "import matplotlib as mpl\n",
    "import warnings \n",
    "warnings.filterwarnings('ignore')\n",
    "np.random.seed(42)\n",
    "\n",
    "print(\"All packages imported!\")\n",
    "\n",
    "\n",
    "plt.style.use('bmh')"
   ]
  },
  {
   "cell_type": "code",
   "execution_count": 4,
   "metadata": {},
   "outputs": [
    {
     "data": {
      "text/html": [
       "<div>\n",
       "<style scoped>\n",
       "    .dataframe tbody tr th:only-of-type {\n",
       "        vertical-align: middle;\n",
       "    }\n",
       "\n",
       "    .dataframe tbody tr th {\n",
       "        vertical-align: top;\n",
       "    }\n",
       "\n",
       "    .dataframe thead th {\n",
       "        text-align: right;\n",
       "    }\n",
       "</style>\n",
       "<table border=\"1\" class=\"dataframe\">\n",
       "  <thead>\n",
       "    <tr style=\"text-align: right;\">\n",
       "      <th></th>\n",
       "      <th>air_store_id</th>\n",
       "      <th>hpg_store_id</th>\n",
       "    </tr>\n",
       "  </thead>\n",
       "  <tbody>\n",
       "    <tr>\n",
       "      <th>0</th>\n",
       "      <td>air_63b13c56b7201bd9</td>\n",
       "      <td>hpg_4bc649e72e2a239a</td>\n",
       "    </tr>\n",
       "    <tr>\n",
       "      <th>1</th>\n",
       "      <td>air_a24bf50c3e90d583</td>\n",
       "      <td>hpg_c34b496d0305a809</td>\n",
       "    </tr>\n",
       "    <tr>\n",
       "      <th>2</th>\n",
       "      <td>air_c7f78b4f3cba33ff</td>\n",
       "      <td>hpg_cd8ae0d9bbd58ff9</td>\n",
       "    </tr>\n",
       "    <tr>\n",
       "      <th>3</th>\n",
       "      <td>air_947eb2cae4f3e8f2</td>\n",
       "      <td>hpg_de24ea49dc25d6b8</td>\n",
       "    </tr>\n",
       "    <tr>\n",
       "      <th>4</th>\n",
       "      <td>air_965b2e0cf4119003</td>\n",
       "      <td>hpg_653238a84804d8e7</td>\n",
       "    </tr>\n",
       "    <tr>\n",
       "      <th>...</th>\n",
       "      <td>...</td>\n",
       "      <td>...</td>\n",
       "    </tr>\n",
       "    <tr>\n",
       "      <th>145</th>\n",
       "      <td>air_b8925441167c3152</td>\n",
       "      <td>hpg_0cc0abae3a8b52de</td>\n",
       "    </tr>\n",
       "    <tr>\n",
       "      <th>146</th>\n",
       "      <td>air_f8233ad00755c35c</td>\n",
       "      <td>hpg_098e4dd30e54fee6</td>\n",
       "    </tr>\n",
       "    <tr>\n",
       "      <th>147</th>\n",
       "      <td>air_6607fe3671242ce3</td>\n",
       "      <td>hpg_1004356dc8ab69ec</td>\n",
       "    </tr>\n",
       "    <tr>\n",
       "      <th>148</th>\n",
       "      <td>air_ccd19a5bc5573ae5</td>\n",
       "      <td>hpg_df22bf146d2c7e19</td>\n",
       "    </tr>\n",
       "    <tr>\n",
       "      <th>149</th>\n",
       "      <td>air_465bddfed3353b23</td>\n",
       "      <td>hpg_23c5945dc1a72454</td>\n",
       "    </tr>\n",
       "  </tbody>\n",
       "</table>\n",
       "<p>150 rows × 2 columns</p>\n",
       "</div>"
      ],
      "text/plain": [
       "             air_store_id          hpg_store_id\n",
       "0    air_63b13c56b7201bd9  hpg_4bc649e72e2a239a\n",
       "1    air_a24bf50c3e90d583  hpg_c34b496d0305a809\n",
       "2    air_c7f78b4f3cba33ff  hpg_cd8ae0d9bbd58ff9\n",
       "3    air_947eb2cae4f3e8f2  hpg_de24ea49dc25d6b8\n",
       "4    air_965b2e0cf4119003  hpg_653238a84804d8e7\n",
       "..                    ...                   ...\n",
       "145  air_b8925441167c3152  hpg_0cc0abae3a8b52de\n",
       "146  air_f8233ad00755c35c  hpg_098e4dd30e54fee6\n",
       "147  air_6607fe3671242ce3  hpg_1004356dc8ab69ec\n",
       "148  air_ccd19a5bc5573ae5  hpg_df22bf146d2c7e19\n",
       "149  air_465bddfed3353b23  hpg_23c5945dc1a72454\n",
       "\n",
       "[150 rows x 2 columns]"
      ]
     },
     "execution_count": 4,
     "metadata": {},
     "output_type": "execute_result"
    }
   ],
   "source": [
    "# Reading csv files into dataframes\n",
    "\n",
    "hpg_reserve = pd.read_csv(os.path.join(os.getcwd(),'Data', 'hpg_reserve.csv.gz'))\n",
    "air_reserve = pd.read_csv(os.path.join(os.getcwd(),'Data', 'air_reserve.csv'))\n",
    "store_id = pd.read_csv(os.path.join(os.getcwd(),'Data','store_id_relation.csv'))\n",
    "\n",
    "# Merging the air and hpg reservations data to the store id to match each restaurant to their appropriate ID for each dataset\n",
    "air_reserve_merged = pd.merge(air_reserve, store_id, on='air_store_id')\n",
    "hpg_reserve_merged = pd.merge(hpg_reserve, store_id, on='hpg_store_id')\n",
    "\n",
    "# Obtaining 2016 data from merged databases \n",
    "# and then finding the total number of visitors for each dataset\n",
    "\n",
    "air_reserve_2016 = air_reserve_merged[air_reserve_merged[\"visit_datetime\"].str.contains('2016-')]\n",
    "air_visitors = air_reserve_2016[\"reserve_visitors\"].sum()\n",
    "\n",
    "hpg_reserve_2016 = hpg_reserve_merged[hpg_reserve_merged['visit_datetime'].str.contains('2016-')]\n",
    "hpg_visitors = hpg_reserve_2016[\"reserve_visitors\"].sum()"
   ]
  },
  {
   "cell_type": "code",
   "execution_count": 7,
   "metadata": {},
   "outputs": [
    {
     "data": {
      "image/png": "[encoded data removed]",
      "text/plain": [
       "<Figure size 576x720 with 1 Axes>"
      ]
     },
     "metadata": {},
     "output_type": "display_data"
    }
   ],
   "source": [
    "# plotting how many visits are generated from the air and hpg datasets\n",
    "\n",
    "plt.style.use('bmh')\n",
    "fig, axes = plt.subplots(nrows = 1, ncols = 1, figsize = (8,10))\n",
    "\n",
    "x_axis = [\"Air\",\"HPG\"]\n",
    "height = [air_visitors, hpg_visitors]\n",
    "\n",
    "axes.bar(x_axis, height, tick_label = x_axis, width = .8, color = ['darkcyan', 'darkorchid'], align = 'center') \n",
    "axes.set_title('Air vs HPG visitors', fontsize = 25,y = 1.05)\n",
    "axes.set_xlabel(\"Name of Store\", fontsize = 20 ,labelpad = 10)\n",
    "axes.set_ylabel(\"Number of Visitors\", fontsize = 20,labelpad = 10)\n",
    "\n",
    "axes.tick_params(axis='x', labelsize = 16)\n",
    "axes.tick_params(axis='y', labelsize = 16)\n",
    "\n",
    "plt.show()"
   ]
  },
  {
   "cell_type": "code",
   "execution_count": null,
   "metadata": {},
   "outputs": [],
   "source": []
  }
 ],
 "metadata": {
  "kernelspec": {
   "display_name": "Python 3",
   "language": "python",
   "name": "python3"
  },
  "language_info": {
   "codemirror_mode": {
    "name": "ipython",
    "version": 3
   },
   "file_extension": ".py",
   "mimetype": "text/x-python",
   "name": "python",
   "nbconvert_exporter": "python",
   "pygments_lexer": "ipython3",
   "version": "3.7.6"
  }
 },
 "nbformat": 4,
 "nbformat_minor": 4
}
